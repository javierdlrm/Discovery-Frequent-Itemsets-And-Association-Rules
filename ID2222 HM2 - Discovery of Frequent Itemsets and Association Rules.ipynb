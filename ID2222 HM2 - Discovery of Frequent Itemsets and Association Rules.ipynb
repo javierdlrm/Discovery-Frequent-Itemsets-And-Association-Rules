{
 "cells": [
  {
   "cell_type": "markdown",
   "metadata": {},
   "source": [
    "# Authors\n",
    "- Filip Finfando\n",
    "- Javier de la Rúa Martínez"
   ]
  },
  {
   "cell_type": "markdown",
   "metadata": {},
   "source": [
    "# Introduction\n",
    "This document is a report created as an assignment for ID2222 course at KTH. The main goal of the assignment was to implement the apriori algorithm to extract the frequent itemsets of a sale transaction dataset with a predefined support. Additionally, the extraction of association rules with a specific confidence based on these frequent itemsets have been developed. We used the given dataset of sale transactions. This dataset, together with some test datasets can be found in 'test/data' folder in the repository."
   ]
  },
  {
   "cell_type": "markdown",
   "metadata": {},
   "source": [
    "# Solution\n",
    "We  decided  to  develop  a  project  in Python 3.7 using  popular  libraries  provided in `requirements.txt` file in the repository.  The whole repository itself is attached to this report. In order to fulfill the task assigned we implemented the following scripts:\n",
    "1. Run, main scripts to run the tests and print the results.\n",
    "2. Apriori, representing  an instance of the apriori algorithm and providing methods for extracting candidates, frequent itemsets and association rules."
   ]
  },
  {
   "cell_type": "markdown",
   "metadata": {},
   "source": [
    "# Running\n",
    "In order for the solution to run, Python 3.7 has to be installed.  We recommend creating a virtual environment for the purpose of evaluating the solution. One can either use command line `python run.py` or run the programme in attached jupyter notebook: `ID2222 HM2 - Discovery of Frequent Itemsets and Association Rules.ipynb`. Below is the output of the jupyter notebook presenting the example run of the program. Due to the extend of the output considering the number of association rules and the time of execution, the experiment is run over the first 300 elements of the dataset."
   ]
  },
  {
   "cell_type": "markdown",
   "metadata": {},
   "source": [
    "# Creating Apriori instance and generating baskets"
   ]
  },
  {
   "cell_type": "code",
   "execution_count": 1,
   "metadata": {},
   "outputs": [
    {
     "name": "stdout",
     "output_type": "stream",
     "text": [
      "Reading 300 lines...\n",
      "['25', '52', '164', '240', '274', '328', '368', '448', '538', '561', '630', '687', '730', '775', '825', '834']\n",
      "['39', '120', '124', '205', '401', '581', '704', '814', '825', '834']\n",
      "['35', '249', '674', '712', '733', '759', '854', '950']\n",
      "['39', '422', '449', '704', '825', '857', '895', '937', '954', '964']\n",
      "['15', '229', '262', '283', '294', '352', '381', '708', '738', '766', '853', '883', '966', '978']\n",
      "['26', '104', '143', '320', '569', '620', '798']\n",
      "['7', '185', '214', '350', '529', '658', '682', '782', '809', '849', '883', '947', '970', '979']\n",
      "['227', '390']\n",
      "['71', '192', '208', '272', '279', '280', '300', '333', '496', '529', '530', '597', '618', '674', '675', '720', '855', '914', '932']\n",
      "['183', '193', '217', '256', '276', '277', '374', '474', '483', '496', '512', '529', '626', '653', '706', '878', '939']\n"
     ]
    }
   ],
   "source": [
    "import os\n",
    "from apriori import Apriori\n",
    "\n",
    "PATH = os.getcwd() + \"/test/data/T10I4D100K.dat\"\n",
    "SUPPORT = 6\n",
    "CONFIDENCE = 0.75\n",
    "N = 300\n",
    "\n",
    "# create a new instance of Apriori\n",
    "apriori = Apriori(PATH, n=N, sep=' ', duplicates=False, verbose=True)\n",
    "\n",
    "for basket in apriori.baskets[:10]:\n",
    "    print(basket)"
   ]
  },
  {
   "cell_type": "markdown",
   "metadata": {},
   "source": [
    "## Candidates and frequent items per iteration"
   ]
  },
  {
   "cell_type": "code",
   "execution_count": 2,
   "metadata": {},
   "outputs": [
    {
     "name": "stdout",
     "output_type": "stream",
     "text": [
      "Frequent items:\n",
      "L0: [frozenset({'283'}), frozenset({'874'}), frozenset({'606'}), frozenset({'788'}), frozenset({'883'}), frozenset({'471'}), frozenset({'39'}), frozenset({'780'}), frozenset({'175'}), frozenset({'464'}), frozenset({'798'}), frozenset({'354'}), frozenset({'516'}), frozenset({'970'}), frozenset({'280'}), frozenset({'183'}), frozenset({'981'}), frozenset({'885'}), frozenset({'720'}), frozenset({'888'}), frozenset({'204'}), frozenset({'387'}), frozenset({'966'}), frozenset({'998'}), frozenset({'682'}), frozenset({'394'}), frozenset({'296'}), frozenset({'692'}), frozenset({'706'}), frozenset({'350'}), frozenset({'895'}), frozenset({'132'}), frozenset({'413'}), frozenset({'884'}), frozenset({'510'}), frozenset({'722'}), frozenset({'45'}), frozenset({'494'}), frozenset({'349'}), frozenset({'944'}), frozenset({'357'}), frozenset({'855'}), frozenset({'960'}), frozenset({'912'}), frozenset({'841'}), frozenset({'279'}), frozenset({'752'}), frozenset({'368'}), frozenset({'597'}), frozenset({'571'}), frozenset({'614'}), frozenset({'580'}), frozenset({'956'}), frozenset({'581'}), frozenset({'229'}), frozenset({'862'}), frozenset({'196'}), frozenset({'623'}), frozenset({'48'}), frozenset({'143'}), frozenset({'832'}), frozenset({'21'}), frozenset({'58'}), frozenset({'738'}), frozenset({'593'}), frozenset({'43'}), frozenset({'778'}), frozenset({'71'}), frozenset({'419'}), frozenset({'477'}), frozenset({'676'}), frozenset({'236'}), frozenset({'526'}), frozenset({'423'}), frozenset({'523'}), frozenset({'829'}), frozenset({'844'}), frozenset({'583'}), frozenset({'33'}), frozenset({'381'}), frozenset({'775'}), frozenset({'242'}), frozenset({'438'}), frozenset({'274'}), frozenset({'489'}), frozenset({'161'}), frozenset({'672'}), frozenset({'638'}), frozenset({'846'}), frozenset({'151'}), frozenset({'766'}), frozenset({'449'}), frozenset({'140'}), frozenset({'390'}), frozenset({'239'}), frozenset({'470'}), frozenset({'704'}), frozenset({'789'}), frozenset({'913'}), frozenset({'527'}), frozenset({'461'}), frozenset({'78'}), frozenset({'795'}), frozenset({'914'}), frozenset({'797'}), frozenset({'964'}), frozenset({'17'}), frozenset({'177'}), frozenset({'932'}), frozenset({'910'}), frozenset({'403'}), frozenset({'70'}), frozenset({'460'}), frozenset({'12'}), frozenset({'561'}), frozenset({'276'}), frozenset({'641'}), frozenset({'496'}), frozenset({'310'}), frozenset({'424'}), frozenset({'694'}), frozenset({'147'}), frozenset({'32'}), frozenset({'198'}), frozenset({'684'}), frozenset({'334'}), frozenset({'631'}), frozenset({'145'}), frozenset({'947'}), frozenset({'538'}), frozenset({'158'}), frozenset({'903'}), frozenset({'598'}), frozenset({'950'}), frozenset({'392'}), frozenset({'487'}), frozenset({'192'}), frozenset({'812'}), frozenset({'617'}), frozenset({'853'}), frozenset({'569'}), frozenset({'854'}), frozenset({'411'}), frozenset({'765'}), frozenset({'72'}), frozenset({'675'}), frozenset({'803'}), frozenset({'541'}), frozenset({'472'}), frozenset({'674'}), frozenset({'385'}), frozenset({'897'}), frozenset({'93'}), frozenset({'112'}), frozenset({'27'}), frozenset({'75'}), frozenset({'735'}), frozenset({'782'}), frozenset({'1'}), frozenset({'500'}), frozenset({'809'}), frozenset({'935'}), frozenset({'744'}), frozenset({'201'}), frozenset({'594'}), frozenset({'793'}), frozenset({'440'}), frozenset({'620'}), frozenset({'534'}), frozenset({'509'}), frozenset({'573'}), frozenset({'886'}), frozenset({'480'}), frozenset({'125'}), frozenset({'988'}), frozenset({'651'}), frozenset({'346'}), frozenset({'919'}), frozenset({'995'}), frozenset({'405'}), frozenset({'579'}), frozenset({'937'}), frozenset({'168'}), frozenset({'217'}), frozenset({'348'}), frozenset({'401'}), frozenset({'275'}), frozenset({'343'}), frozenset({'658'}), frozenset({'801'}), frozenset({'172'}), frozenset({'31'}), frozenset({'522'}), frozenset({'921'}), frozenset({'521'}), frozenset({'116'}), frozenset({'205'}), frozenset({'259'}), frozenset({'825'}), frozenset({'878'}), frozenset({'517'}), frozenset({'120'}), frozenset({'326'}), frozenset({'362'}), frozenset({'871'}), frozenset({'529'}), frozenset({'701'}), frozenset({'733'})]\n",
      "\n",
      "L1: [frozenset({'538', '464'}), frozenset({'172', '464'}), frozenset({'354', '58'}), frozenset({'354', '583'}), frozenset({'354', '617'}), frozenset({'487', '510'}), frozenset({'862', '392'}), frozenset({'862', '801'}), frozenset({'617', '583'}), frozenset({'538', '172'}), frozenset({'801', '392'}), frozenset({'782', '529'})]\n",
      "\n",
      "L2: [frozenset({'538', '172', '464'}), frozenset({'354', '617', '583'}), frozenset({'862', '801', '392'})]\n",
      "\n"
     ]
    }
   ],
   "source": [
    "# get candidates and frequent itemsets\n",
    "candidates, frequent_itemsets = apriori.compute(support=SUPPORT, verbose=False)\n",
    "\n",
    "print(\"Frequent items:\")\n",
    "for i in range(0, len(frequent_itemsets)):\n",
    "    print(\"L{}: {}\\n\".format(i, list(frequent_itemsets[i])))"
   ]
  },
  {
   "cell_type": "markdown",
   "metadata": {},
   "source": [
    "## Association rules"
   ]
  },
  {
   "cell_type": "code",
   "execution_count": 3,
   "metadata": {},
   "outputs": [
    {
     "name": "stdout",
     "output_type": "stream",
     "text": [
      "Association rules:\n",
      "Rule: ['862', '801'] -> ['392'] - Confidence: 1.0 - Support: 6\n",
      "Rule: ['862', '392'] -> ['801'] - Confidence: 0.86 - Support: 6\n",
      "Rule: ['801', '392'] -> ['862'] - Confidence: 1.0 - Support: 6\n",
      "Rule: ['801'] -> ['862', '392'] - Confidence: 1.0 - Support: 6\n",
      "Rule: ['354', '617'] -> ['583'] - Confidence: 1.0 - Support: 6\n",
      "Rule: ['354', '583'] -> ['617'] - Confidence: 1.0 - Support: 6\n",
      "Rule: ['617', '583'] -> ['354'] - Confidence: 1.0 - Support: 6\n",
      "Rule: ['583'] -> ['354', '617'] - Confidence: 1.0 - Support: 6\n",
      "Rule: ['538', '172'] -> ['464'] - Confidence: 1.0 - Support: 6\n",
      "Rule: ['538', '464'] -> ['172'] - Confidence: 1.0 - Support: 6\n",
      "Rule: ['172', '464'] -> ['538'] - Confidence: 1.0 - Support: 6\n",
      "Rule: ['172'] -> ['538', '464'] - Confidence: 0.75 - Support: 6\n",
      "Rule: ['464'] -> ['538', '172'] - Confidence: 0.86 - Support: 6\n",
      "Rule: ['801'] -> ['392'] - Confidence: 1.0 - Support: 6\n",
      "Rule: ['172'] -> ['538'] - Confidence: 0.75 - Support: 6\n",
      "Rule: ['583'] -> ['617'] - Confidence: 1.0 - Support: 6\n",
      "Rule: ['801'] -> ['862'] - Confidence: 1.0 - Support: 6\n",
      "Rule: ['583'] -> ['354'] - Confidence: 1.0 - Support: 6\n",
      "Rule: ['58'] -> ['354'] - Confidence: 0.86 - Support: 6\n",
      "Rule: ['172'] -> ['464'] - Confidence: 0.75 - Support: 6\n",
      "Rule: ['464'] -> ['172'] - Confidence: 0.86 - Support: 6\n",
      "Rule: ['464'] -> ['538'] - Confidence: 0.86 - Support: 6\n"
     ]
    }
   ],
   "source": [
    "association_rules = apriori.get_association_rules(confidence=CONFIDENCE, verbose=False)\n",
    "\n",
    "print(\"Association rules:\")\n",
    "for r, (c, s) in association_rules.items():\n",
    "    print(\"Rule: {} -> {} - Confidence: {} - Support: {}\".format(list(r[0]), list(r[1]), c, s))"
   ]
  },
  {
   "cell_type": "markdown",
   "metadata": {},
   "source": [
    "# Visualization\n",
    "\n",
    "### Scatterplot with confidence and support"
   ]
  },
  {
   "cell_type": "code",
   "execution_count": 4,
   "metadata": {},
   "outputs": [
    {
     "data": {
      "text/plain": [
       "<matplotlib.axes._subplots.AxesSubplot at 0x1a6dc9a02b0>"
      ]
     },
     "execution_count": 4,
     "metadata": {},
     "output_type": "execute_result"
    },
    {
     "data": {
      "image/png": "[encoded data removed]",
      "text/plain": [
       "<Figure size 432x288 with 1 Axes>"
      ]
     },
     "metadata": {
      "needs_background": "light"
     },
     "output_type": "display_data"
    }
   ],
   "source": [
    "%matplotlib inline\n",
    "import pandas as pd\n",
    "\n",
    "df = pd.DataFrame(association_rules.values())\n",
    "df.columns = [\"confidence\", \"support\"]\n",
    "df.plot.scatter(x=\"confidence\", y=\"support\")\n"
   ]
  },
  {
   "cell_type": "markdown",
   "metadata": {},
   "source": [
    "# Connected graph"
   ]
  },
  {
   "cell_type": "code",
   "execution_count": 5,
   "metadata": {},
   "outputs": [
    {
     "data": {
      "image/png": "[encoded data removed]",
      "text/plain": [
       "<Figure size 720x720 with 1 Axes>"
      ]
     },
     "metadata": {},
     "output_type": "display_data"
    }
   ],
   "source": [
    "import networkx as nx\n",
    "import matplotlib.pyplot as plt\n",
    "\n",
    "plt.figure(figsize=(10, 10))\n",
    "G = nx.DiGraph()\n",
    "for r, (c, s) in association_rules.items():\n",
    "    end = list(r[1])[0]\n",
    "    for rx in list(r[0]):\n",
    "        G.add_edge(rx, end, weight=1, arrowsize=100)\n",
    "edges = [\n",
    "    (u, v) for (u, v, d) in G.edges(data=True)\n",
    "]\n",
    "pos = nx.spring_layout(G)  # positions for all nodes\n",
    "nx.draw_networkx_nodes(G, pos, node_size=1000)\n",
    "nx.draw_networkx_edges(G, pos, edgelist=edges, width=1, arrows=True)\n",
    "nx.draw_networkx_labels(G, pos, font_size=10, font_family=\"sans-serif\")\n",
    "plt.axis(\"off\")\n",
    "plt.show()"
   ]
  },
  {
   "cell_type": "markdown",
   "metadata": {},
   "source": [
    "# References\n",
    "R. Agrawal and R. Srikant. Fast Algorithms for Mining Association Rules, VLDB '94, URL: http://www.vldb.org/conf/1994/P487.PDF"
   ]
  }
 ],
 "metadata": {
  "kernelspec": {
   "display_name": "Python 3",
   "language": "python",
   "name": "python3"
  },
  "language_info": {
   "codemirror_mode": {
    "name": "ipython",
    "version": 3
   },
   "file_extension": ".py",
   "mimetype": "text/x-python",
   "name": "python",
   "nbconvert_exporter": "python",
   "pygments_lexer": "ipython3",
   "version": "3.6.8"
  }
 },
 "nbformat": 4,
 "nbformat_minor": 2
}

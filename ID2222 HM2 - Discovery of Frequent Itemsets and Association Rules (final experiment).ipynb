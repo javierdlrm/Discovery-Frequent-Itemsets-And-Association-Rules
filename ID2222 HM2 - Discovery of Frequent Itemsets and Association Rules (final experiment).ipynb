{
 "cells": [
  {
   "cell_type": "markdown",
   "metadata": {},
   "source": [
    "# Authors\n",
    "- Filip Finfando\n",
    "- Javier de la Rúa Martínez"
   ]
  },
  {
   "cell_type": "markdown",
   "metadata": {},
   "source": [
    "# Introduction\n",
    "This document is a report created as an assignment for ID2222 course at KTH. The main goal of the assignment was to implement the apriori algorithm to extract the frequent itemsets of a sale transaction dataset with a predefined support. Additionally, the extraction of association rules with a specific confidence based on these frequent itemsets have been developed. We used the given dataset of sale transactions. This dataset, together with some test datasets can be found in 'test/data' folder in the repository."
   ]
  },
  {
   "cell_type": "markdown",
   "metadata": {},
   "source": [
    "# Solution\n",
    "We  decided  to  develop  a  project  in Python 3.7 using  popular  libraries  provided in `requirements.txt` file in the repository.  The whole repository itself is attached to this report. In order to fulfill the task assigned we implemented the following scripts:\n",
    "1. Run, main scripts to run the tests and print the results.\n",
    "2. Apriori, representing  an instance of the apriori algorithm and providing methods for extracting candidates, frequent itemsets and association rules."
   ]
  },
  {
   "cell_type": "markdown",
   "metadata": {},
   "source": [
    "# Running\n",
    "In order for the solution to run, Python 3.7 has to be installed.  We recommend creating a virtual environment for the purpose of evaluating the solution. One can either use command line `python run.py` or run the programme in attached jupyter notebook: `ID2222 HM2 - Discovery of Frequent Itemsets and Association Rules.ipynb`. Below is the output of the jupyter notebook presenting the example run of the program. We have run the experiment with minimum support of 0.01 and minimum confidence 0.20."
   ]
  },
  {
   "cell_type": "markdown",
   "metadata": {},
   "source": [
    "# Creating Apriori instance and generating baskets"
   ]
  },
  {
   "cell_type": "code",
   "execution_count": 1,
   "metadata": {
    "scrolled": true
   },
   "outputs": [
    {
     "name": "stdout",
     "output_type": "stream",
     "text": [
      "Reading 100000 lines...\n",
      "Baskets loaded: 0.0974139 seconds\n",
      "['25', '52', '164', '240', '274', '328', '368', '448', '538', '561', '630', '687', '730', '775', '825', '834']\n",
      "['39', '120', '124', '205', '401', '581', '704', '814', '825', '834']\n",
      "['35', '249', '674', '712', '733', '759', '854', '950']\n",
      "['39', '422', '449', '704', '825', '857', '895', '937', '954', '964']\n",
      "['15', '229', '262', '283', '294', '352', '381', '708', '738', '766', '853', '883', '966', '978']\n",
      "['26', '104', '143', '320', '569', '620', '798']\n",
      "['7', '185', '214', '350', '529', '658', '682', '782', '809', '849', '883', '947', '970', '979']\n",
      "['227', '390']\n",
      "['71', '192', '208', '272', '279', '280', '300', '333', '496', '529', '530', '597', '618', '674', '675', '720', '855', '914', '932']\n",
      "['183', '193', '217', '256', '276', '277', '374', '474', '483', '496', '512', '529', '626', '653', '706', '878', '939']\n"
     ]
    }
   ],
   "source": [
    "import os\n",
    "import timeit\n",
    "from apriori import Apriori\n",
    "\n",
    "PATH = os.getcwd() + \"/test/data/T10I4D100K.dat\"\n",
    "N = 100000\n",
    "SUPPORT = 0.01\n",
    "CONFIDENCE = 0.20\n",
    "\n",
    "# create a new instance of Apriori\n",
    "apriori = Apriori()\n",
    "\n",
    "# load baskets\n",
    "lb_ms = timeit.timeit(\"apriori.load_baskets(PATH, n=N, sep=' ', duplicates=False, verbose=True)\", number=1, globals=globals())\n",
    "print(\"Baskets loaded: {} seconds\".format(lb_ms))\n",
    "\n",
    "for basket in apriori.baskets[:10]:\n",
    "    print(basket)"
   ]
  },
  {
   "cell_type": "markdown",
   "metadata": {},
   "source": [
    "## Candidates and frequent items per iteration"
   ]
  },
  {
   "cell_type": "code",
   "execution_count": 2,
   "metadata": {},
   "outputs": [
    {
     "name": "stdout",
     "output_type": "stream",
     "text": [
      "# Computing C1 and L1...\n",
      "- 870 candidates in 685.9619617462158 ms\n"
     ]
    },
    {
     "data": {
      "application/vnd.jupyter.widget-view+json": {
       "model_id": "386b5c64e5704197b0f64e8396862c73",
       "version_major": 2,
       "version_minor": 0
      },
      "text/plain": [
       "HBox(children=(IntProgress(value=0, max=870), HTML(value='')))"
      ]
     },
     "metadata": {},
     "output_type": "display_data"
    },
    {
     "name": "stdout",
     "output_type": "stream",
     "text": [
      "\n",
      "- 375 frequent itemsets in 26.00693702697754 ms\n",
      "- 1 iteration completed in 712.9700183868408 ms\n",
      "# Computing C2 and L2...\n"
     ]
    },
    {
     "data": {
      "application/vnd.jupyter.widget-view+json": {
       "model_id": "25287dcd1005400eb01a30fa55ed779a",
       "version_major": 2,
       "version_minor": 0
      },
      "text/plain": [
       "HBox(children=(IntProgress(value=0, max=375), HTML(value='')))"
      ]
     },
     "metadata": {},
     "output_type": "display_data"
    },
    {
     "name": "stdout",
     "output_type": "stream",
     "text": [
      "\n",
      "- 70125 candidates in 2972.9604721069336 ms\n"
     ]
    },
    {
     "data": {
      "application/vnd.jupyter.widget-view+json": {
       "model_id": "bc644191554a4e95ada85ea749b7a02d",
       "version_major": 2,
       "version_minor": 0
      },
      "text/plain": [
       "HBox(children=(IntProgress(value=0, max=70125), HTML(value='')))"
      ]
     },
     "metadata": {},
     "output_type": "display_data"
    },
    {
     "name": "stdout",
     "output_type": "stream",
     "text": [
      "\n",
      "- 9 frequent itemsets in 74.00131225585938 ms\n",
      "- 2 iteration completed in 3046.961784362793 ms\n",
      "# Computing C3 and L3...\n"
     ]
    },
    {
     "data": {
      "application/vnd.jupyter.widget-view+json": {
       "model_id": "4bf54cb3b4664a62a421691b85c3af80",
       "version_major": 2,
       "version_minor": 0
      },
      "text/plain": [
       "HBox(children=(IntProgress(value=0, max=9), HTML(value='')))"
      ]
     },
     "metadata": {},
     "output_type": "display_data"
    },
    {
     "name": "stdout",
     "output_type": "stream",
     "text": [
      "\n",
      "- 1 candidates in 18.004894256591797 ms\n"
     ]
    },
    {
     "data": {
      "application/vnd.jupyter.widget-view+json": {
       "model_id": "cce37fa57d69434baed682b2e1c2e74e",
       "version_major": 2,
       "version_minor": 0
      },
      "text/plain": [
       "HBox(children=(IntProgress(value=0, max=1), HTML(value='')))"
      ]
     },
     "metadata": {},
     "output_type": "display_data"
    },
    {
     "name": "stdout",
     "output_type": "stream",
     "text": [
      "\n",
      "- 1 frequent itemsets in 20.994901657104492 ms\n",
      "- 3 iteration completed in 38.99979591369629 ms\n",
      "# Computing C4 and L4...\n"
     ]
    },
    {
     "data": {
      "application/vnd.jupyter.widget-view+json": {
       "model_id": "e4c34b1c1a814414a402cd10269804b9",
       "version_major": 2,
       "version_minor": 0
      },
      "text/plain": [
       "HBox(children=(IntProgress(value=0, max=1), HTML(value='')))"
      ]
     },
     "metadata": {},
     "output_type": "display_data"
    },
    {
     "name": "stdout",
     "output_type": "stream",
     "text": [
      "\n",
      "Apriori computed: 3.8178411 seconds\n",
      "C0: 870 candidates\n",
      "L0: 375 frequent itemsets\n",
      "C1: 70125 candidates\n",
      "L1: 9 frequent itemsets\n",
      "C2: 1 candidates\n",
      "L2: 1 frequent itemsets\n"
     ]
    }
   ],
   "source": [
    "# get candidates and frequent itemsets\n",
    "c_ms = timeit.timeit(\"apriori.compute(min_support=SUPPORT, stop=False, verbose=False)\", number=1, globals=globals())\n",
    "print(\"Apriori computed: {} seconds\".format(c_ms))\n",
    "\n",
    "for i in range(0, len(apriori.candidates)):\n",
    "    print(\"C{}: {} candidates\".format(i, len(apriori.candidates[i])))\n",
    "    print(\"L{}: {} frequent itemsets\".format(i, len(apriori.frequent_itemsets[i])))"
   ]
  },
  {
   "cell_type": "markdown",
   "metadata": {},
   "source": [
    "## Association rules"
   ]
  },
  {
   "cell_type": "code",
   "execution_count": 3,
   "metadata": {},
   "outputs": [
    {
     "name": "stdout",
     "output_type": "stream",
     "text": [
      "Association rules computed: 8.759999999874424e-05 seconds\n",
      "Association rules: 19 rules\n",
      "Rule: ['825', '704'] -> ['39'] - Confidence: 0.9392014519056261 - Support: 0.01035\n",
      "Rule: ['825', '39'] -> ['704'] - Confidence: 0.8719460825610783 - Support: 0.01035\n",
      "Rule: ['704', '39'] -> ['825'] - Confidence: 0.9349593495934959 - Support: 0.01035\n",
      "Rule: ['825'] -> ['704', '39'] - Confidence: 0.3354943273905997 - Support: 0.01035\n",
      "Rule: ['704'] -> ['825', '39'] - Confidence: 0.5769230769230769 - Support: 0.01035\n",
      "Rule: ['39'] -> ['825', '704'] - Confidence: 0.2430718647252231 - Support: 0.01035\n",
      "Rule: ['682'] -> ['368'] - Confidence: 0.28872216844143267 - Support: 0.01193\n",
      "Rule: ['789'] -> ['829'] - Confidence: 0.2770944534694824 - Support: 0.01194\n",
      "Rule: ['825'] -> ['704'] - Confidence: 0.35721231766612643 - Support: 0.01102\n",
      "Rule: ['704'] -> ['825'] - Confidence: 0.6142697881828316 - Support: 0.01102\n",
      "Rule: ['704'] -> ['39'] - Confidence: 0.6170568561872909 - Support: 0.01107\n",
      "Rule: ['39'] -> ['704'] - Confidence: 0.259981211836543 - Support: 0.01107\n",
      "Rule: ['825'] -> ['39'] - Confidence: 0.38476499189627233 - Support: 0.01187\n",
      "Rule: ['39'] -> ['825'] - Confidence: 0.27876937529356505 - Support: 0.01187\n",
      "Rule: ['217'] -> ['346'] - Confidence: 0.24855813953488373 - Support: 0.01336\n",
      "Rule: ['346'] -> ['217'] - Confidence: 0.385014409221902 - Support: 0.01336\n",
      "Rule: ['390'] -> ['722'] - Confidence: 0.3880819366852887 - Support: 0.01042\n",
      "Rule: ['227'] -> ['390'] - Confidence: 0.5770077007700769 - Support: 0.01049\n",
      "Rule: ['390'] -> ['227'] - Confidence: 0.3906890130353817 - Support: 0.01049\n"
     ]
    }
   ],
   "source": [
    "gar_ms = timeit.timeit(\"apriori.get_association_rules(min_confidence=CONFIDENCE, verbose=True)\", number=1, globals=globals())\n",
    "print(\"Association rules computed: {} seconds\".format(gar_ms))\n",
    "\n",
    "print(\"Association rules: {} rules\".format(len(apriori.association_rules)))\n",
    "for r, (c, s) in apriori.association_rules.items():\n",
    "    print(\"Rule: {} -> {} - Confidence: {} - Support: {}\".format(list(r[0]), list(r[1]), c, s))"
   ]
  },
  {
   "cell_type": "markdown",
   "metadata": {},
   "source": [
    "## TEST with other libraries"
   ]
  },
  {
   "cell_type": "code",
   "execution_count": 4,
   "metadata": {},
   "outputs": [],
   "source": [
    "# custom rules\n",
    "custom_rules = [(r[0], r[1]) for r in apriori.association_rules.keys()]\n",
    "\n",
    "# Prepare dataset\n",
    "dataset = []\n",
    "with open(PATH) as f:\n",
    "    for line in f:\n",
    "        dataset.append(line.rstrip().split(' '))"
   ]
  },
  {
   "cell_type": "code",
   "execution_count": 5,
   "metadata": {},
   "outputs": [
    {
     "name": "stdout",
     "output_type": "stream",
     "text": [
      "MLXTEND: 19 rules\n"
     ]
    }
   ],
   "source": [
    "import pandas as pd\n",
    "from mlxtend.preprocessing import TransactionEncoder\n",
    "from mlxtend.frequent_patterns import apriori as apriori_mlx\n",
    "from mlxtend.frequent_patterns import association_rules\n",
    "\n",
    "# mlx apriori\n",
    "te = TransactionEncoder()\n",
    "te_ary = te.fit(dataset).transform(dataset)\n",
    "df = pd.DataFrame(te_ary, columns=te.columns_)\n",
    "fi = apriori_mlx(df, min_support=SUPPORT, use_colnames=True)\n",
    "ar = association_rules(fi, metric=\"confidence\", min_threshold=CONFIDENCE)\n",
    "mlxtend_rules = [(row['antecedents'], row['consequents']) for index, row in ar.iterrows()]\n",
    "print(\"MLXTEND: {} rules\".format(len(mlxtend_rules)))"
   ]
  },
  {
   "cell_type": "code",
   "execution_count": 6,
   "metadata": {},
   "outputs": [
    {
     "name": "stdout",
     "output_type": "stream",
     "text": [
      "APYORI: 9 rules\n"
     ]
    }
   ],
   "source": [
    "from apyori import apriori as apriori_ap\n",
    "\n",
    "# apyori\n",
    "apyori_rules = list(apriori_ap(dataset, min_support=SUPPORT, min_confidence=CONFIDENCE))\n",
    "print(\"APYORI: {} rules\".format(len(apyori_rules)))"
   ]
  },
  {
   "cell_type": "code",
   "execution_count": 7,
   "metadata": {},
   "outputs": [
    {
     "name": "stdout",
     "output_type": "stream",
     "text": [
      "EFFICIENT-APRIORI: 19 rules\n"
     ]
    }
   ],
   "source": [
    "from efficient_apriori import apriori as apriori_ef\n",
    "\n",
    "# efficient-apriori\n",
    "itemsets, ef_rules = apriori_ef(dataset, min_support=SUPPORT,  min_confidence=CONFIDENCE)\n",
    "print(\"EFFICIENT-APRIORI: {} rules\".format(len(ef_rules)))"
   ]
  },
  {
   "cell_type": "code",
   "execution_count": 8,
   "metadata": {},
   "outputs": [
    {
     "name": "stdout",
     "output_type": "stream",
     "text": [
      "Rules: Mlx 19 - Apyori 9 - Efficient 19 - Custom 19\n"
     ]
    }
   ],
   "source": [
    "print(\"Rules: Mlx {} - Apyori {} - Efficient {} - Custom {}\".format(len(mlxtend_rules), len(apyori_rules), len(ef_rules), len(custom_rules)))"
   ]
  },
  {
   "cell_type": "markdown",
   "metadata": {},
   "source": [
    "# Visualization\n",
    "\n",
    "### Scatterplot with confidence and support"
   ]
  },
  {
   "cell_type": "code",
   "execution_count": 9,
   "metadata": {},
   "outputs": [
    {
     "data": {
      "image/png": "[encoded data removed]",
      "text/plain": [
       "<Figure size 432x288 with 1 Axes>"
      ]
     },
     "metadata": {
      "needs_background": "light"
     },
     "output_type": "display_data"
    }
   ],
   "source": [
    "%matplotlib inline\n",
    "import pandas as pd\n",
    "\n",
    "if apriori.association_rules:\n",
    "    df = pd.DataFrame(apriori.association_rules.values())\n",
    "    df.columns = [\"confidence\", \"support\"]\n",
    "    df.plot.scatter(x=\"confidence\", y=\"support\")\n",
    "else:\n",
    "    print(\"No association rules\")"
   ]
  },
  {
   "cell_type": "markdown",
   "metadata": {},
   "source": [
    "# Connected graph"
   ]
  },
  {
   "cell_type": "code",
   "execution_count": 10,
   "metadata": {},
   "outputs": [
    {
     "data": {
      "image/png": "[encoded data removed]",
      "text/plain": [
       "<Figure size 720x720 with 1 Axes>"
      ]
     },
     "metadata": {},
     "output_type": "display_data"
    },
    {
     "name": "stdout",
     "output_type": "stream",
     "text": [
      "\n"
     ]
    }
   ],
   "source": [
    "import networkx as nx\n",
    "import matplotlib.pyplot as plt\n",
    "\n",
    "if apriori.association_rules:\n",
    "    plt.figure(figsize=(10, 10))\n",
    "    G = nx.DiGraph()\n",
    "    for r, (c, s) in apriori.association_rules.items():\n",
    "        end = list(r[1])[0]\n",
    "        for rx in list(r[0]):\n",
    "            G.add_edge(rx, end, weight=1, arrowsize=100)\n",
    "    edges = [\n",
    "        (u, v) for (u, v, d) in G.edges(data=True)\n",
    "    ]\n",
    "    pos = nx.spring_layout(G)  # positions for all nodes\n",
    "    nx.draw_networkx_nodes(G, pos, node_size=1000)\n",
    "    nx.draw_networkx_edges(G, pos, edgelist=edges, width=1, arrows=True)\n",
    "    nx.draw_networkx_labels(G, pos, font_size=10, font_family=\"sans-serif\")\n",
    "    plt.axis(\"off\")\n",
    "    plt.show()\n",
    "    print(\"\")\n",
    "else:\n",
    "    print(\"No association rules\")"
   ]
  },
  {
   "cell_type": "markdown",
   "metadata": {},
   "source": [
    "# References\n",
    "R. Agrawal and R. Srikant. Fast Algorithms for Mining Association Rules, VLDB '94, URL: http://www.vldb.org/conf/1994/P487.PDF"
   ]
  }
 ],
 "metadata": {
  "kernelspec": {
   "display_name": "Python 3",
   "language": "python",
   "name": "python3"
  },
  "language_info": {
   "codemirror_mode": {
    "name": "ipython",
    "version": 3
   },
   "file_extension": ".py",
   "mimetype": "text/x-python",
   "name": "python",
   "nbconvert_exporter": "python",
   "pygments_lexer": "ipython3",
   "version": "3.6.8"
  }
 },
 "nbformat": 4,
 "nbformat_minor": 2
}
